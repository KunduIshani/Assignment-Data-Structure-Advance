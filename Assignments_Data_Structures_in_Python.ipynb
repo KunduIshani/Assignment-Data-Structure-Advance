{
  "nbformat": 4,
  "nbformat_minor": 0,
  "metadata": {
    "colab": {
      "provenance": []
    },
    "kernelspec": {
      "name": "python3",
      "display_name": "Python 3"
    },
    "language_info": {
      "name": "python"
    }
  },
  "cells": [
    {
      "cell_type": "code",
      "execution_count": null,
      "metadata": {
        "id": "XLX0wjDW-Fu3"
      },
      "outputs": [],
      "source": [
        "#1.Write a code to reverse a string."
      ]
    },
    {
      "cell_type": "code",
      "source": [
        "string = \"Hello world!!!\"\n",
        "string"
      ],
      "metadata": {
        "colab": {
          "base_uri": "https://localhost:8080/",
          "height": 35
        },
        "id": "yp0AUdv7-ToI",
        "outputId": "abec2a89-0041-4eb3-c0df-e66de2abb44d"
      },
      "execution_count": null,
      "outputs": [
        {
          "output_type": "execute_result",
          "data": {
            "text/plain": [
              "'Hello world!!!'"
            ],
            "application/vnd.google.colaboratory.intrinsic+json": {
              "type": "string"
            }
          },
          "metadata": {},
          "execution_count": 1
        }
      ]
    },
    {
      "cell_type": "code",
      "source": [
        "string[::-1]"
      ],
      "metadata": {
        "colab": {
          "base_uri": "https://localhost:8080/",
          "height": 35
        },
        "id": "5o8s33tQ-Tq8",
        "outputId": "6c697a9a-e57e-4178-df3e-bc115cec448b"
      },
      "execution_count": null,
      "outputs": [
        {
          "output_type": "execute_result",
          "data": {
            "text/plain": [
              "'!!!dlrow olleH'"
            ],
            "application/vnd.google.colaboratory.intrinsic+json": {
              "type": "string"
            }
          },
          "metadata": {},
          "execution_count": 2
        }
      ]
    },
    {
      "cell_type": "code",
      "source": [
        "#2.Write a code to count the number of vowels in a string.\n",
        "string = \"Hello World, my name is Ishani\"\n",
        "vowels = \"aeiouAEIOU\"\n",
        "count = []\n",
        "for i in string:\n",
        "  if i in vowels:\n",
        "    count += i\n",
        "print(f\"vowels:,{count} |numbers:{len(count)} \")"
      ],
      "metadata": {
        "colab": {
          "base_uri": "https://localhost:8080/"
        },
        "id": "jziN1_Hr-Ttm",
        "outputId": "3fec87f8-381f-4eb1-fa7a-c0607228dd4e"
      },
      "execution_count": null,
      "outputs": [
        {
          "output_type": "stream",
          "name": "stdout",
          "text": [
            "vowels:,['e', 'o', 'o', 'a', 'e', 'i', 'I', 'a', 'i'] |numbers:9 \n"
          ]
        }
      ]
    },
    {
      "cell_type": "code",
      "source": [
        "#3.Write a code to check if a given string is a palindrome or not.\n"
      ],
      "metadata": {
        "id": "QKZdb6dS-TwO"
      },
      "execution_count": null,
      "outputs": []
    },
    {
      "cell_type": "code",
      "source": [
        "string = \"madam\"\n",
        "if string == string[::-1]:\n",
        "  print(\"palindrome\")\n",
        "else:\n",
        "  print(\"not palindrome\")"
      ],
      "metadata": {
        "colab": {
          "base_uri": "https://localhost:8080/"
        },
        "id": "BP4uwts7-Tyv",
        "outputId": "069d4106-bd05-4003-d6f8-2e4b2b06402a"
      },
      "execution_count": null,
      "outputs": [
        {
          "output_type": "stream",
          "name": "stdout",
          "text": [
            "palindrome\n"
          ]
        }
      ]
    },
    {
      "cell_type": "code",
      "source": [
        "#4.Write a code to check if two given strings are anagrams of each other."
      ],
      "metadata": {
        "id": "wzbwMHJh-T1Y"
      },
      "execution_count": null,
      "outputs": []
    },
    {
      "cell_type": "code",
      "source": [
        "str1 = \"cat\"\n",
        "str2 = \"act\"\n",
        "if sorted(str1) == sorted(str2):\n",
        "  print(\"anagrams\")\n",
        "else:\n",
        "  print(\"non anagrams\")\n"
      ],
      "metadata": {
        "colab": {
          "base_uri": "https://localhost:8080/"
        },
        "id": "nJjGKTrW-T4Q",
        "outputId": "5b1bf200-ae7c-4e4d-96f8-e6c532dc12e8"
      },
      "execution_count": null,
      "outputs": [
        {
          "output_type": "stream",
          "name": "stdout",
          "text": [
            "anagrams\n"
          ]
        }
      ]
    },
    {
      "cell_type": "code",
      "source": [
        "#5.Write a code to find all occurrences of a given substring within another string.\n",
        "string = \"Hello world\"\n",
        "sub_string = \"l\"\n",
        "for i in range(len(string)):\n",
        "  if string[i] == sub_string:\n",
        "    print(i)"
      ],
      "metadata": {
        "colab": {
          "base_uri": "https://localhost:8080/"
        },
        "id": "G8coLYjP-T7C",
        "outputId": "3b0a6410-5807-4660-e300-3a308c296a74"
      },
      "execution_count": null,
      "outputs": [
        {
          "output_type": "stream",
          "name": "stdout",
          "text": [
            "2\n",
            "3\n",
            "9\n"
          ]
        }
      ]
    },
    {
      "cell_type": "code",
      "source": [
        "#6.Write a code to perform basic string compression using the counts of repeated characters."
      ],
      "metadata": {
        "id": "cXQzjWx2-T9p"
      },
      "execution_count": null,
      "outputs": []
    },
    {
      "cell_type": "code",
      "source": [
        "string = \"Hello world\"\n",
        "count = 1\n",
        "for i in range(len(string)-1):\n",
        "  if string[i] == string[i+1]:\n",
        "    count += 1\n",
        "\n",
        "  else:\n",
        "    print(string[i],count)\n",
        "    count = 1\n",
        "print(string[i],count)"
      ],
      "metadata": {
        "colab": {
          "base_uri": "https://localhost:8080/"
        },
        "id": "pypcNAsN-UA0",
        "outputId": "3b73b496-02ba-49a9-ac05-33cea02bfb91"
      },
      "execution_count": null,
      "outputs": [
        {
          "output_type": "stream",
          "name": "stdout",
          "text": [
            "H 1\n",
            "e 1\n",
            "l 2\n",
            "o 1\n",
            "  1\n",
            "w 1\n",
            "o 1\n",
            "r 1\n",
            "l 1\n",
            "l 1\n"
          ]
        }
      ]
    },
    {
      "cell_type": "code",
      "source": [
        "#7.Write a code to determine if a string has all unique characters."
      ],
      "metadata": {
        "id": "QpE2lQMe-UEF"
      },
      "execution_count": null,
      "outputs": []
    },
    {
      "cell_type": "code",
      "source": [
        "string = \"Hello world, today is a beautiful day\"\n",
        "if len(string) == len(set(string)):\n",
        "  print(\"unique\")\n",
        "else:\n",
        "  print(\"not unique\")"
      ],
      "metadata": {
        "colab": {
          "base_uri": "https://localhost:8080/"
        },
        "id": "68aVVGZd0lEs",
        "outputId": "2ffaf16a-354e-45a5-e651-86c0882eda49"
      },
      "execution_count": null,
      "outputs": [
        {
          "output_type": "stream",
          "name": "stdout",
          "text": [
            "not unique\n"
          ]
        }
      ]
    },
    {
      "cell_type": "code",
      "source": [
        "string = \"toy\"\n",
        "if len(string) == len(set(string)):\n",
        "  print(\"unique\")\n",
        "else:\n",
        "  print(\"not unique\")"
      ],
      "metadata": {
        "colab": {
          "base_uri": "https://localhost:8080/"
        },
        "id": "xxQZlJbH0lIc",
        "outputId": "4d8c57ce-0a05-49a8-fc6a-cb47b8ef642e"
      },
      "execution_count": null,
      "outputs": [
        {
          "output_type": "stream",
          "name": "stdout",
          "text": [
            "unique\n"
          ]
        }
      ]
    },
    {
      "cell_type": "code",
      "source": [
        "#8.Write a code to convert a given string to uppercase or lowercase."
      ],
      "metadata": {
        "id": "C8fhk70a0lLt"
      },
      "execution_count": null,
      "outputs": []
    },
    {
      "cell_type": "code",
      "source": [
        "string = \"Hello World\"\n",
        "string.upper()"
      ],
      "metadata": {
        "colab": {
          "base_uri": "https://localhost:8080/",
          "height": 35
        },
        "id": "t-34woSH0lOc",
        "outputId": "f739afbe-af27-4a29-cd92-28e310b0d91c"
      },
      "execution_count": null,
      "outputs": [
        {
          "output_type": "execute_result",
          "data": {
            "text/plain": [
              "'HELLO WORLD'"
            ],
            "application/vnd.google.colaboratory.intrinsic+json": {
              "type": "string"
            }
          },
          "metadata": {},
          "execution_count": 10
        }
      ]
    },
    {
      "cell_type": "code",
      "source": [
        "string = \"Hello World\"\n",
        "string.lower()"
      ],
      "metadata": {
        "colab": {
          "base_uri": "https://localhost:8080/",
          "height": 35
        },
        "id": "4nVkcLhP0lR6",
        "outputId": "1cb72218-3ac1-4feb-96ce-ba3b4db82624"
      },
      "execution_count": null,
      "outputs": [
        {
          "output_type": "execute_result",
          "data": {
            "text/plain": [
              "'hello world'"
            ],
            "application/vnd.google.colaboratory.intrinsic+json": {
              "type": "string"
            }
          },
          "metadata": {},
          "execution_count": 12
        }
      ]
    },
    {
      "cell_type": "code",
      "source": [
        "#9.Write a code to count the number of words in a string."
      ],
      "metadata": {
        "id": "WIp0PsBz5bcu"
      },
      "execution_count": null,
      "outputs": []
    },
    {
      "cell_type": "code",
      "source": [
        "string = \"Hello world, I am learning coding\"\n",
        "len(string)"
      ],
      "metadata": {
        "colab": {
          "base_uri": "https://localhost:8080/"
        },
        "id": "33PcxX985bgx",
        "outputId": "7022d666-d41d-4b48-9808-617ba8af682f"
      },
      "execution_count": null,
      "outputs": [
        {
          "output_type": "execute_result",
          "data": {
            "text/plain": [
              "33"
            ]
          },
          "metadata": {},
          "execution_count": 13
        }
      ]
    },
    {
      "cell_type": "code",
      "source": [
        "#10.Write a code to concatenate two strings without using the + operator."
      ],
      "metadata": {
        "id": "PkvFEc535bj7"
      },
      "execution_count": null,
      "outputs": []
    },
    {
      "cell_type": "code",
      "source": [
        "greet = \"Hello, Good morning,\"\n",
        "name = \"Ishani.\"\n",
        "print(greet,name)"
      ],
      "metadata": {
        "colab": {
          "base_uri": "https://localhost:8080/"
        },
        "id": "qDoYB80Q5bnG",
        "outputId": "012e68ff-8fbb-46ea-c3de-9b63b1c30414"
      },
      "execution_count": null,
      "outputs": [
        {
          "output_type": "stream",
          "name": "stdout",
          "text": [
            "Hello, Good morning, Ishani.\n"
          ]
        }
      ]
    },
    {
      "cell_type": "code",
      "source": [
        "#11.Write a code to remove all occurrences of a specific element from a list."
      ],
      "metadata": {
        "id": "GeDC-0cu5bps"
      },
      "execution_count": null,
      "outputs": []
    },
    {
      "cell_type": "code",
      "source": [
        "price = [10,20,30,40,50]\n",
        "double_price = []\n",
        "for i in price:\n",
        "  double_price.append(i*2)\n",
        "print(double_price)\n",
        "\n"
      ],
      "metadata": {
        "colab": {
          "base_uri": "https://localhost:8080/"
        },
        "id": "jE17KNLS5btC",
        "outputId": "2eb70a50-af07-4db8-8b6e-0e8346bc4540"
      },
      "execution_count": null,
      "outputs": [
        {
          "output_type": "stream",
          "name": "stdout",
          "text": [
            "[20, 40, 60, 80, 100]\n"
          ]
        }
      ]
    },
    {
      "cell_type": "code",
      "source": [
        "#12.Implement a code to find the second largest number in a given list of integers."
      ],
      "metadata": {
        "id": "XH7aE4dz9Nww"
      },
      "execution_count": null,
      "outputs": []
    },
    {
      "cell_type": "code",
      "source": [
        "numbers = [110,97,19,17,23,58,85]\n",
        "numbers.sort()\n",
        "numbers[-2]"
      ],
      "metadata": {
        "colab": {
          "base_uri": "https://localhost:8080/"
        },
        "id": "Ph7KASIk9q5Q",
        "outputId": "95a83c1e-2e46-4f41-870f-6e6b036ccaac"
      },
      "execution_count": null,
      "outputs": [
        {
          "output_type": "execute_result",
          "data": {
            "text/plain": [
              "97"
            ]
          },
          "metadata": {},
          "execution_count": 29
        }
      ]
    },
    {
      "cell_type": "code",
      "source": [
        "#13.Create a code to count the occurrences of each element in a list and return a dictionary with elements as keys and their counts as values."
      ],
      "metadata": {
        "id": "gc8Rwr-_9q8S"
      },
      "execution_count": null,
      "outputs": []
    },
    {
      "cell_type": "code",
      "source": [
        "arr = [1,2,3,4,4,5,10,1,10,20,-10,0,0]\n",
        "num_count_dict = {}\n",
        "for num in arr:\n",
        "  if num not in num_count_dict:\n",
        "    num_count_dict[num]=1\n",
        "  else:\n",
        "      num_count_dict[num] += 1\n",
        "print(num_count_dict)"
      ],
      "metadata": {
        "colab": {
          "base_uri": "https://localhost:8080/"
        },
        "id": "kYOhP_kW9q-4",
        "outputId": "4fab3846-4fa8-49ba-d488-28ea512d0a8d"
      },
      "execution_count": null,
      "outputs": [
        {
          "output_type": "stream",
          "name": "stdout",
          "text": [
            "{1: 2, 2: 1, 3: 1, 4: 2, 5: 1, 10: 2, 20: 1, -10: 1, 0: 2}\n"
          ]
        }
      ]
    },
    {
      "cell_type": "code",
      "source": [
        "#14.Write a code to reverse a list in-place without using any built-in reverse functions."
      ],
      "metadata": {
        "id": "vW8_rjK19rBe"
      },
      "execution_count": null,
      "outputs": []
    },
    {
      "cell_type": "code",
      "source": [
        "list = [1,2,3,4,5]\n",
        "list[::-1]"
      ],
      "metadata": {
        "colab": {
          "base_uri": "https://localhost:8080/"
        },
        "id": "U-kbwodtDYR9",
        "outputId": "1f741ffa-87e7-472c-da06-f39ab7868555"
      },
      "execution_count": null,
      "outputs": [
        {
          "output_type": "execute_result",
          "data": {
            "text/plain": [
              "[5, 4, 3, 2, 1]"
            ]
          },
          "metadata": {},
          "execution_count": 46
        }
      ]
    },
    {
      "cell_type": "code",
      "source": [
        "#15.Implement a code to find and remove duplicates from a list while preserving the original order of elements."
      ],
      "metadata": {
        "id": "NJQyOAEwDYXr"
      },
      "execution_count": null,
      "outputs": []
    },
    {
      "cell_type": "code",
      "source": [
        "\n",
        "grades = ['A', 'A', 'A', 'B', 'C', 'D', 'F', 'F']\n",
        "unique_grades_set = set(grades)\n",
        "unique_grades_list = list(unique_grades_set)\n",
        "print(unique_grades_list)\n"
      ],
      "metadata": {
        "colab": {
          "base_uri": "https://localhost:8080/"
        },
        "id": "2e9kFVdp37Uq",
        "outputId": "fcb2c9fd-8066-41f9-acb4-1ccff05e1a44"
      },
      "execution_count": null,
      "outputs": [
        {
          "output_type": "stream",
          "name": "stdout",
          "text": [
            "['B', 'C', 'F', 'D', 'A']\n"
          ]
        }
      ]
    },
    {
      "cell_type": "code",
      "source": [
        "#16.Create a code to check if a given list is sorted (either in ascending or descending order) or not."
      ],
      "metadata": {
        "id": "g-PUIqn0K5DD"
      },
      "execution_count": null,
      "outputs": []
    },
    {
      "cell_type": "code",
      "source": [
        "my_list1 = [1, 2, 3, 4, 5]"
      ],
      "metadata": {
        "id": "0IiPPOnCK5Ly"
      },
      "execution_count": null,
      "outputs": []
    },
    {
      "cell_type": "code",
      "source": [
        "if my_list1 == sorted(my_list1):\n",
        "  print(\"sorted in ascending order\")\n",
        "elif my_list1 == sorted(my_list1, reverse = True):\n",
        "  print(\"sorted in descending order\")\n",
        "else:\n",
        "  print(\"not sorted\")"
      ],
      "metadata": {
        "colab": {
          "base_uri": "https://localhost:8080/"
        },
        "id": "UXY3q2EwMV9s",
        "outputId": "415190e5-fbda-4524-943e-be66f3d36adb"
      },
      "execution_count": null,
      "outputs": [
        {
          "output_type": "stream",
          "name": "stdout",
          "text": [
            "sorted in ascending order\n"
          ]
        }
      ]
    },
    {
      "cell_type": "code",
      "source": [
        "my_list2 = [5, 4, 3, 2, 1]"
      ],
      "metadata": {
        "id": "XB-1uT2NMWIq"
      },
      "execution_count": null,
      "outputs": []
    },
    {
      "cell_type": "code",
      "source": [
        "if my_list2 == sorted(my_list2):\n",
        "  print(\"sorted in ascending order\")\n",
        "elif my_list2 == sorted(my_list2, reverse = True):\n",
        "  print(\"sorted in descending order\")\n",
        "else:\n",
        "  print(\"not sorted\")"
      ],
      "metadata": {
        "colab": {
          "base_uri": "https://localhost:8080/"
        },
        "id": "UiLXy89iMWLP",
        "outputId": "4499f293-4d02-4219-b79d-77005aad378e"
      },
      "execution_count": null,
      "outputs": [
        {
          "output_type": "stream",
          "name": "stdout",
          "text": [
            "sorted in descending order\n"
          ]
        }
      ]
    },
    {
      "cell_type": "code",
      "source": [
        "my_list3 = [3, 1, 4, 2, 5]"
      ],
      "metadata": {
        "id": "-qGkX2LTMWOU"
      },
      "execution_count": null,
      "outputs": []
    },
    {
      "cell_type": "code",
      "source": [
        "if my_list3 == sorted(my_list3):\n",
        "  print(\"sorted in ascending order\")\n",
        "elif my_list3 == sorted(my_list3, reverse = True):\n",
        "  print(\"sorted in descending order\")\n",
        "else:\n",
        "  print(\"not sorted\")"
      ],
      "metadata": {
        "colab": {
          "base_uri": "https://localhost:8080/"
        },
        "id": "lNCYusidK5Ov",
        "outputId": "0d158c22-3e32-49a2-b6da-cea61a2f9b57"
      },
      "execution_count": null,
      "outputs": [
        {
          "output_type": "stream",
          "name": "stdout",
          "text": [
            "not sorted\n"
          ]
        }
      ]
    },
    {
      "cell_type": "code",
      "source": [
        "#17.Write a code to merge two sorted lists into a single sorted list."
      ],
      "metadata": {
        "id": "_2URZwOqODvX"
      },
      "execution_count": null,
      "outputs": []
    },
    {
      "cell_type": "code",
      "source": [
        "A = [1,3,5,7,9]\n",
        "B = [2,4,6,8,10]\n",
        "union = sorted(A+B)\n",
        "print(union)"
      ],
      "metadata": {
        "id": "XfFaP3hYODyi",
        "colab": {
          "base_uri": "https://localhost:8080/"
        },
        "outputId": "27e2fe65-dbbd-4196-8ab2-bc199e097bad"
      },
      "execution_count": null,
      "outputs": [
        {
          "output_type": "stream",
          "name": "stdout",
          "text": [
            "[1, 2, 3, 4, 5, 6, 7, 8, 9, 10]\n"
          ]
        }
      ]
    },
    {
      "cell_type": "code",
      "source": [
        "#18.Implement a code to find the intersection of two given lists.\n",
        "list1 = [1,2,3,4,5]\n",
        "list2 = [2,3,5,6,7]\n",
        "intersection = list(set(list1) & set(list2))\n",
        "print(intersection)"
      ],
      "metadata": {
        "id": "ArFX2FiaOD1s",
        "colab": {
          "base_uri": "https://localhost:8080/"
        },
        "outputId": "e474ad41-41a3-4fe4-c201-702ad7e0e090"
      },
      "execution_count": null,
      "outputs": [
        {
          "output_type": "stream",
          "name": "stdout",
          "text": [
            "[2, 3, 5]\n"
          ]
        }
      ]
    },
    {
      "cell_type": "code",
      "source": [
        "#19.Create a code to find the union of two lists without duplicates."
      ],
      "metadata": {
        "id": "d8u5FjprOD4k"
      },
      "execution_count": null,
      "outputs": []
    },
    {
      "cell_type": "code",
      "source": [
        "list1 = [1,2,3,4,5]\n",
        "list2 = [2,3,5,6,7]\n",
        "union = list(set(list1)| set(list2))\n",
        "print(union)"
      ],
      "metadata": {
        "id": "HmyBE37JOD7d",
        "colab": {
          "base_uri": "https://localhost:8080/"
        },
        "outputId": "358ebc6b-e9ce-4499-9745-ac185359b19c"
      },
      "execution_count": null,
      "outputs": [
        {
          "output_type": "stream",
          "name": "stdout",
          "text": [
            "[1, 2, 3, 4, 5, 6, 7]\n"
          ]
        }
      ]
    },
    {
      "cell_type": "code",
      "source": [
        "#20.Write a code to shuffle a given list randomly without using any built-in shuffle functions"
      ],
      "metadata": {
        "id": "snrhZU2SOD_H"
      },
      "execution_count": null,
      "outputs": []
    },
    {
      "cell_type": "code",
      "source": [
        "colours = [\"red\",\"pink\",\"orange\",\"red\",\"green\",\"pink\",\"black\",\"white\"]\n",
        "print(list(set(colours)))"
      ],
      "metadata": {
        "colab": {
          "base_uri": "https://localhost:8080/"
        },
        "id": "HoSelLziuwRz",
        "outputId": "e8ac276f-0fa8-46cd-8059-094c11af65b9"
      },
      "execution_count": null,
      "outputs": [
        {
          "output_type": "stream",
          "name": "stdout",
          "text": [
            "['white', 'red', 'green', 'pink', 'black', 'orange']\n"
          ]
        }
      ]
    },
    {
      "cell_type": "code",
      "source": [
        "#21.Write a code that takes two tuples as input and returns a new tuple containing elements that are common to both input tuples."
      ],
      "metadata": {
        "id": "4cZNL69wuwUg"
      },
      "execution_count": null,
      "outputs": []
    },
    {
      "cell_type": "code",
      "source": [
        "box1 = (\"apple\",\"mango\",\"banana\")\n",
        "box2 = (\"mango\",\"grapes\",\"apple\")\n",
        "fruit_box = tuple(set(box1) & set(box2))\n",
        "print(fruit_box)"
      ],
      "metadata": {
        "colab": {
          "base_uri": "https://localhost:8080/"
        },
        "id": "ycoMy7JluwXZ",
        "outputId": "0b9d5972-4ad9-4eb8-c31d-4d2ac0786120"
      },
      "execution_count": 12,
      "outputs": [
        {
          "output_type": "stream",
          "name": "stdout",
          "text": [
            "('mango', 'apple')\n"
          ]
        }
      ]
    },
    {
      "cell_type": "code",
      "source": [
        "#22.Create a code that prompts the user to enter two sets of integers separated by commas. Then, print the intersection of these two sets."
      ],
      "metadata": {
        "id": "Co_Nae-XXvpq"
      },
      "execution_count": null,
      "outputs": []
    },
    {
      "cell_type": "code",
      "source": [
        "A = {1,3,5,7,9}\n",
        "B = {3,4,6,7,10}\n",
        "print(A.intersection(B))"
      ],
      "metadata": {
        "id": "irBiPYX1uwdT",
        "colab": {
          "base_uri": "https://localhost:8080/"
        },
        "outputId": "08505032-c403-4cb0-a117-1fcea017a207"
      },
      "execution_count": 14,
      "outputs": [
        {
          "output_type": "stream",
          "name": "stdout",
          "text": [
            "{3, 7}\n"
          ]
        }
      ]
    },
    {
      "cell_type": "code",
      "source": [
        "#23.Write a code to concatenate two tuples. The function should take two tuples as input and return a new tuple containing elements from both input tuples."
      ],
      "metadata": {
        "id": "Tw1E5Rkeuwg0"
      },
      "execution_count": null,
      "outputs": []
    },
    {
      "cell_type": "code",
      "source": [
        "t1 = (100,200,300)\n",
        "t2 = (400,500,600)\n",
        "t3 = (t1 + t2)\n",
        "t3"
      ],
      "metadata": {
        "colab": {
          "base_uri": "https://localhost:8080/"
        },
        "id": "u9M5_hrWdo1B",
        "outputId": "f745c793-9263-406c-acc0-717820b62273"
      },
      "execution_count": 8,
      "outputs": [
        {
          "output_type": "execute_result",
          "data": {
            "text/plain": [
              "(100, 200, 300, 400, 500, 600)"
            ]
          },
          "metadata": {},
          "execution_count": 8
        }
      ]
    },
    {
      "cell_type": "code",
      "source": [
        "#24.Develop a code that prompts the user to input two sets of strings. Then, print the elements that are present in the first set but not in the second set."
      ],
      "metadata": {
        "id": "eE60q_Wkdo3r"
      },
      "execution_count": null,
      "outputs": []
    },
    {
      "cell_type": "code",
      "source": [
        "A = {\"sun\",\"moon\",\"starts\"}\n",
        "B = {\"rain\",\"clouds\",\"sky\"}\n",
        "print(A.difference(B))"
      ],
      "metadata": {
        "colab": {
          "base_uri": "https://localhost:8080/"
        },
        "id": "EvAq5zOydo6e",
        "outputId": "531b787f-85d9-423b-99cd-b77184a119c7"
      },
      "execution_count": 15,
      "outputs": [
        {
          "output_type": "stream",
          "name": "stdout",
          "text": [
            "{'starts', 'sun', 'moon'}\n"
          ]
        }
      ]
    },
    {
      "cell_type": "code",
      "source": [
        "#25.Create a code that takes a tuple and two integers as input.The function should return a new tuple containing elements from the original tuple within the specified range of indices."
      ],
      "metadata": {
        "id": "ZOiQdt6tdo9c"
      },
      "execution_count": null,
      "outputs": []
    },
    {
      "cell_type": "code",
      "source": [
        "my_tuple = (1,2,3,4,5)\n",
        "start_index = 1\n",
        "end_index = 4\n",
        "new_tuple = my_tuple[start_index:end_index]\n",
        "print(new_tuple)"
      ],
      "metadata": {
        "colab": {
          "base_uri": "https://localhost:8080/"
        },
        "id": "QWz8GHWCdpAR",
        "outputId": "c8076804-dc32-4f6d-db61-4277d7884b9e"
      },
      "execution_count": 21,
      "outputs": [
        {
          "output_type": "stream",
          "name": "stdout",
          "text": [
            "(2, 3, 4)\n"
          ]
        }
      ]
    },
    {
      "cell_type": "code",
      "source": [
        "#26.Write a code that prompts the user to input two sets of characters. Then, print the union of these two sets."
      ],
      "metadata": {
        "id": "6STSaxEviuKG"
      },
      "execution_count": null,
      "outputs": []
    },
    {
      "cell_type": "code",
      "source": [
        "A = {1,2,3,4,5}\n",
        "B = {5,6,7,8,9}\n",
        "print(A.union(B))"
      ],
      "metadata": {
        "colab": {
          "base_uri": "https://localhost:8080/"
        },
        "id": "eRmsBD_qiuTj",
        "outputId": "36975d24-fd39-403f-b226-894ac7c4a730"
      },
      "execution_count": 22,
      "outputs": [
        {
          "output_type": "stream",
          "name": "stdout",
          "text": [
            "{1, 2, 3, 4, 5, 6, 7, 8, 9}\n"
          ]
        }
      ]
    },
    {
      "cell_type": "code",
      "source": [
        "#27. Develop a code that takes a tuple of integers as input. The function should return the maximum and minimum values from the tuple using tuple unpacking."
      ],
      "metadata": {
        "id": "SKX6TAqhiuWd"
      },
      "execution_count": null,
      "outputs": []
    },
    {
      "cell_type": "code",
      "source": [
        "def find_max_min(numbers):\n",
        "    # Initialize min and max to the first element of the tuple\n",
        "    min_val, max_val = numbers[0], numbers[0]\n",
        "\n",
        "    # Iterate through the tuple, unpacking each value\n",
        "    for num in numbers:\n",
        "        if num < min_val:\n",
        "            min_val = num\n",
        "        if num > max_val:\n",
        "            max_val = num\n",
        "\n",
        "    # Return the result as a tuple using tuple unpacking\n",
        "    return min_val, max_val\n",
        "\n",
        "# Example usage\n",
        "input_tuple = (34, 78, 12, 56, 99, 23, 67)\n",
        "min_val, max_val = find_max_min(input_tuple)\n",
        "\n",
        "print(\"Minimum value:\", min_val)\n",
        "print(\"Maximum value:\", max_val)\n"
      ],
      "metadata": {
        "colab": {
          "base_uri": "https://localhost:8080/"
        },
        "id": "aFd-PeSAiuY5",
        "outputId": "42cfa9e9-2bf7-42a6-fb6c-377e7921fc8a"
      },
      "execution_count": 28,
      "outputs": [
        {
          "output_type": "stream",
          "name": "stdout",
          "text": [
            "Minimum value: 12\n",
            "Maximum value: 99\n"
          ]
        }
      ]
    },
    {
      "cell_type": "code",
      "source": [
        "#28.Create a code that defines two sets of integers. Then, print the union, intersection, and difference of these two sets."
      ],
      "metadata": {
        "id": "L5hpz-Qmiubi"
      },
      "execution_count": null,
      "outputs": []
    },
    {
      "cell_type": "code",
      "source": [
        "A = {1,2,3,4,5}\n",
        "B = {2,3,5,6,7}\n",
        "print(\"union:\",A.union(B))\n",
        "print(\"intersection:\",A.intersection(B))\n",
        "print(\"difference:\",A.difference(B))"
      ],
      "metadata": {
        "colab": {
          "base_uri": "https://localhost:8080/"
        },
        "id": "LsevtISxlQre",
        "outputId": "5f054563-cb1c-4696-8198-521456d4359d"
      },
      "execution_count": 31,
      "outputs": [
        {
          "output_type": "stream",
          "name": "stdout",
          "text": [
            "union: {1, 2, 3, 4, 5, 6, 7}\n",
            "intersection: {2, 3, 5}\n",
            "difference: {1, 4}\n"
          ]
        }
      ]
    },
    {
      "cell_type": "code",
      "source": [
        "#29.Write a code that takes a tuple and an element as input. The function should return the count of occurrences of the given element in the tuple."
      ],
      "metadata": {
        "id": "rnixVCtclQvA"
      },
      "execution_count": null,
      "outputs": []
    },
    {
      "cell_type": "code",
      "source": [
        "def count_occurrences(my_tuple, element):\n",
        "\n",
        "  count = 0\n",
        "  for item in my_tuple:\n",
        "    if item == element:\n",
        "      count += 1\n",
        "  return count\n",
        "\n",
        "\n",
        "my_tuple = (1, 2, 3, 2, 4, 2)\n",
        "element = 2\n",
        "count = count_occurrences(my_tuple, element)\n",
        "print(f\"The element {element} appears {count} times in the tuple.\")"
      ],
      "metadata": {
        "colab": {
          "base_uri": "https://localhost:8080/"
        },
        "id": "UFeCp8EClQ1N",
        "outputId": "f077c007-53c3-4160-986a-ff9b80778828"
      },
      "execution_count": 32,
      "outputs": [
        {
          "output_type": "stream",
          "name": "stdout",
          "text": [
            "The element 2 appears 3 times in the tuple.\n"
          ]
        }
      ]
    },
    {
      "cell_type": "code",
      "source": [
        "#30.Develop a code that prompts the user to input two sets of strings. Then, print the symmetric difference of these two sets."
      ],
      "metadata": {
        "id": "dNSUS6JMlQ4E"
      },
      "execution_count": null,
      "outputs": []
    },
    {
      "cell_type": "code",
      "source": [
        "A = {\"sun\",\"moon\",\"stars\"}\n",
        "B = {\"sun\",\"rain\",\"rainbow\"}\n",
        "print(A.symmetric_difference(B))"
      ],
      "metadata": {
        "colab": {
          "base_uri": "https://localhost:8080/"
        },
        "id": "vTYPBOi4lQ7T",
        "outputId": "18b7c319-8695-4da7-9103-6f701821fdf9"
      },
      "execution_count": 33,
      "outputs": [
        {
          "output_type": "stream",
          "name": "stdout",
          "text": [
            "{'moon', 'rain', 'rainbow', 'stars'}\n"
          ]
        }
      ]
    },
    {
      "cell_type": "code",
      "source": [
        "#31.Write a code that takes a list of words as input and returns a dictionary where the keys are unique words and the values are the frequencies of those words in the input list."
      ],
      "metadata": {
        "id": "mCXygeKknQV9"
      },
      "execution_count": null,
      "outputs": []
    },
    {
      "cell_type": "code",
      "source": [
        "def word_frequencies(words):\n",
        "\n",
        "  word_counts = {}\n",
        "  for word in words:\n",
        "    if word not in word_counts:\n",
        "      word_counts[word] = 0\n",
        "    word_counts[word] += 1\n",
        "  return word_counts\n",
        "\n",
        "\n",
        "my_list = [\"apple\", \"apple\", \"mango\", \"banana\", \"mango\", \"banana\", \"grapes\"]\n",
        "frequencies = word_frequencies(my_list)\n",
        "print(frequencies)"
      ],
      "metadata": {
        "colab": {
          "base_uri": "https://localhost:8080/"
        },
        "id": "etFpNOf4nZwK",
        "outputId": "f6162358-edec-48bc-eb1a-2539a6e9e621"
      },
      "execution_count": 38,
      "outputs": [
        {
          "output_type": "stream",
          "name": "stdout",
          "text": [
            "{'apple': 2, 'mango': 2, 'banana': 2, 'grapes': 1}\n"
          ]
        }
      ]
    },
    {
      "cell_type": "code",
      "source": [
        "#32.Write a code that takes two dictionaries as input and merges them into a single dictionary. If there are common keys, the values should be added together."
      ],
      "metadata": {
        "id": "FczPKUhHnZzo"
      },
      "execution_count": null,
      "outputs": []
    },
    {
      "cell_type": "code",
      "source": [
        "my_dict = {\"USA\":\"wishington\",\"england\":\"london\"}\n",
        "my_dict"
      ],
      "metadata": {
        "colab": {
          "base_uri": "https://localhost:8080/"
        },
        "id": "Otingy8cnZ2y",
        "outputId": "90144cee-b82f-40b9-ca96-743ca7eeb690"
      },
      "execution_count": 40,
      "outputs": [
        {
          "output_type": "execute_result",
          "data": {
            "text/plain": [
              "{'USA': 'wishington', 'england': 'london'}"
            ]
          },
          "metadata": {},
          "execution_count": 40
        }
      ]
    },
    {
      "cell_type": "code",
      "source": [
        "my_dict1 = {\"india\":\"new delhi\",\"france\":\"paris\"}\n",
        "my_dict1"
      ],
      "metadata": {
        "colab": {
          "base_uri": "https://localhost:8080/"
        },
        "id": "Ksfs6KGunZ5s",
        "outputId": "f8a7cd45-fa7d-42ce-c59b-d71625e9e275"
      },
      "execution_count": 41,
      "outputs": [
        {
          "output_type": "execute_result",
          "data": {
            "text/plain": [
              "{'india': 'new delhi', 'france': 'paris'}"
            ]
          },
          "metadata": {},
          "execution_count": 41
        }
      ]
    },
    {
      "cell_type": "code",
      "source": [
        "my_new_dict = {**my_dict , **my_dict1}\n",
        "print(my_new_dict)"
      ],
      "metadata": {
        "colab": {
          "base_uri": "https://localhost:8080/"
        },
        "id": "1WmA6aa_nZ82",
        "outputId": "54b941cc-5605-4235-c1bb-9fd3dc3627c6"
      },
      "execution_count": 43,
      "outputs": [
        {
          "output_type": "stream",
          "name": "stdout",
          "text": [
            "{'USA': 'wishington', 'england': 'london', 'india': 'new delhi', 'france': 'paris'}\n"
          ]
        }
      ]
    },
    {
      "cell_type": "code",
      "source": [
        "#33.Write a code to access a value in a nested dictionary. The function should take the dictionary and a list of keys as input, and return the corresponding value. If any of the keys do not exist in the dictionary, the function should return None."
      ],
      "metadata": {
        "id": "Z93pemY_tAFN"
      },
      "execution_count": null,
      "outputs": []
    },
    {
      "cell_type": "code",
      "source": [
        "def get_value_from_nested_dict(nested_dict, key_list):\n",
        "\n",
        "  current_dict = nested_dict\n",
        "  for key in key_list:\n",
        "    if key in current_dict:\n",
        "      current_dict = current_dict[key]\n",
        "    else:\n",
        "      return None\n",
        "  return current_dict\n",
        "\n",
        "my_dict = {\"a\": {\"b\": {\"c\": 1}}}\n",
        "key_list = [\"a\", \"b\", \"c\"]\n",
        "value = get_value_from_nested_dict(my_dict, key_list)\n",
        "print(value)\n",
        "\n",
        "key_list = [\"a\", \"b\", \"d\"]\n",
        "value = get_value_from_nested_dict(my_dict, key_list)\n",
        "print(value)"
      ],
      "metadata": {
        "colab": {
          "base_uri": "https://localhost:8080/"
        },
        "id": "DEWS8n6Jta_D",
        "outputId": "e42f58ca-eeec-4026-cffd-655e580e6424"
      },
      "execution_count": 44,
      "outputs": [
        {
          "output_type": "stream",
          "name": "stdout",
          "text": [
            "1\n",
            "None\n"
          ]
        }
      ]
    },
    {
      "cell_type": "code",
      "source": [
        "#34. Write a code that takes a dictionary as input and returns a sorted version of it based on the values. You can choose whether to sort in ascending or descending order."
      ],
      "metadata": {
        "id": "aUBTXo9GtbBN"
      },
      "execution_count": null,
      "outputs": []
    },
    {
      "cell_type": "code",
      "source": [
        "def sort_dictionary_by_values(my_dict, ascending=True):\n",
        "  sorted_dict = dict(sorted(my_dict.items(), key=lambda item: item[1], reverse= not ascending))\n",
        "  return sorted_dict\n",
        "\n",
        "#for ascending order\n",
        "my_dict = {'apple': 3, 'banana': 1, 'cherry': 2}\n",
        "sorted_dict_asc = sort_dictionary_by_values(my_dict)\n",
        "print(sorted_dict_asc)\n",
        "\n",
        "#for descending order\n",
        "sorted_dict_desc = sort_dictionary_by_values(my_dict, ascending=False)\n",
        "print(sorted_dict_desc)"
      ],
      "metadata": {
        "colab": {
          "base_uri": "https://localhost:8080/"
        },
        "id": "MSTpEGTqtbF-",
        "outputId": "8091d2ae-1f6d-48b3-80f4-f59352009ff6"
      },
      "execution_count": 46,
      "outputs": [
        {
          "output_type": "stream",
          "name": "stdout",
          "text": [
            "{'banana': 1, 'cherry': 2, 'apple': 3}\n",
            "{'apple': 3, 'cherry': 2, 'banana': 1}\n"
          ]
        }
      ]
    },
    {
      "cell_type": "code",
      "source": [
        "#35. Write a code that inverts a dictionary, swapping keys and values.Ensure that the inverted dictionary correctly handles cases where multiple keys have the same value by storing the keys as a list in the inverted dictionary."
      ],
      "metadata": {
        "id": "-nL56Q_itbI-"
      },
      "execution_count": null,
      "outputs": []
    },
    {
      "cell_type": "code",
      "source": [
        "def invert_dictionary(my_dict):\n",
        "  inverted_dict = {}\n",
        "  for key, value in my_dict.items():\n",
        "    if value not in inverted_dict:\n",
        "      inverted_dict[value] = [key]\n",
        "    else:\n",
        "      inverted_dict[value].append(key)\n",
        "  return inverted_dict\n",
        "\n",
        "\n",
        "my_dict = {'a': 1, 'b': 2, 'c': 1}\n",
        "inverted_dict = invert_dictionary(my_dict)\n",
        "print(inverted_dict)"
      ],
      "metadata": {
        "colab": {
          "base_uri": "https://localhost:8080/"
        },
        "id": "1_t-7A07tbMf",
        "outputId": "b1a1f8d8-763a-4408-a0f0-fbfb3842274b"
      },
      "execution_count": 47,
      "outputs": [
        {
          "output_type": "stream",
          "name": "stdout",
          "text": [
            "{1: ['a', 'c'], 2: ['b']}\n"
          ]
        }
      ]
    }
  ]
}